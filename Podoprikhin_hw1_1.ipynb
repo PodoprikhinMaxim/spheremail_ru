{
 "cells": [
  {
   "cell_type": "markdown",
   "metadata": {},
   "source": [
    "**Общая информация**\n",
    "\n",
    "**Срок сдачи:** 20 марта 2019, 06:00 <br\\>\n",
    "**Штраф за опоздание:** -1 балл после 06:00 20 марта, -2 балла после 06:00 27 марта, -3 балла после 06:00 3 апреля\n",
    "-4 балла после 06:00 10 апреля\n",
    "\n",
    "При отправлении ДЗ указывайте фамилию в названии файла\n",
    "Присылать ДЗ необходимо в виде ссылки на свой github репозиторий в slack @alkhamush\n",
    "\n",
    "Необходимо в slack скинуть ссылку в личный чат @alkhamush\n",
    "Пример ссылки:\n",
    "https://github.com/stroykova/spheremailru/stroykova_hw1.ipynb \n",
    "\n",
    "\n",
    "Используйте данный Ipython Notebook при оформлении домашнего задания."
   ]
  },
  {
   "cell_type": "markdown",
   "metadata": {},
   "source": [
    "##### Задание 1 (2 баллов)\n",
    "Реализовать KNN в классе MyKNeighborsClassifier (обязательное условие: точность не ниже sklearn реализации)\n",
    "Разберитесь самостоятельно, какая мера расстояния используется в KNeighborsClassifier дефолтно и реализуйте свой алгоритм именно с этой мерой. Самостоятельно разберитесь, как считается score из KNeighborsClassifier и реализуйте аналог в своём классе. Score не должен уступать значению KNN из sklearn\n",
    "\n",
    "###### Задание 2 (2 балла)\n",
    "Добиться скорости работы на fit,  predict и predict_proba сравнимой со sklearn для iris и mnist\n",
    "Для этого используем numpy\n",
    "\n",
    "###### Задание 3 (2 балла)\n",
    "Для iris найдите такой параметр n_neighbors, при котором выдаётся наилучший score. Нарисуйте график зависимости score от n_neighbors\n",
    "\n",
    "###### Задание 4 (3 балла)\n",
    "Добавить algorithm='kd_tree' в реализацию KNN (использовать KDTree из sklearn.neighbors). Добиться скорости работы на fit,  predict и predict_proba сравнимой со sklearn для iris и mnist\n",
    "Для этого используем numpy. Score не должен уступать значению KNN из sklearn\n",
    "\n",
    "###### Задание 5 (1 балла)\n",
    "Описать для чего нужны следующие библиотеки/классы/функции (список будет ниже)\n",
    "\n",
    "**Штрафные баллы:**\n",
    "\n",
    "1. Невыполнение PEP8 -0.5 баллов\n",
    "2. Отсутствие фамилии в имени скрипта (скрипт должен называться по аналогии со stroykova_hw1.ipynb) -0.5 баллов\n",
    "3. Все строчки должны быть выполнены. Нужно, чтобы output команды можно было увидеть уже в git'е. В противном случае -0.5 баллов\n",
    "4. При оформлении ДЗ нужно пользоваться данным файлом в качестве шаблона. Не нужно удалять и видоизменять структуру кода и текст. В противном случае -0.5 баллов\n"
   ]
  },
  {
   "cell_type": "code",
   "execution_count": 2,
   "metadata": {},
   "outputs": [],
   "source": [
    "import numpy as np\n",
    "import matplotlib.pyplot as plt\n",
    "\n",
    "import seaborn as sns\n",
    "from sklearn import datasets\n",
    "from sklearn.base import ClassifierMixin\n",
    "from sklearn.datasets import fetch_mldata, fetch_openml\n",
    "from sklearn.neighbors.base import NeighborsBase, KNeighborsMixin, SupervisedIntegerMixin \n",
    "from sklearn.model_selection import train_test_split\n",
    "from sklearn.neighbors import KNeighborsClassifier, KDTree\n",
    "\n",
    "%load_ext pycodestyle_magic"
   ]
  },
  {
   "cell_type": "code",
   "execution_count": 5,
   "metadata": {},
   "outputs": [],
   "source": [
    "#%%pycodestyle\n",
    "\n",
    "\n",
    "class MyKNeighborsClassifier(NeighborsBase, KNeighborsMixin,\n",
    "                             SupervisedIntegerMixin, ClassifierMixin):\n",
    "\n",
    "    def __init__(self, n_neighbors=5, algorithm='brute'):\n",
    "        self.n_neighbors = n_neighbors\n",
    "        self.algorithm = algorithm\n",
    "\n",
    "    def fit(self, X, y):\n",
    "        self.Data = X\n",
    "        self.Type = y\n",
    "        self.classes = np.unique(self.Type)\n",
    "        if self.algorithm == 'kd_tree':\n",
    "            self.tree = KDTree(self.Data)\n",
    "\n",
    "    def predict(self, X):\n",
    "        B = np.zeros(shape=(len(X[:, 0])))\n",
    "        if self.algorithm == 'brute':\n",
    "            A1 = np.sum(self.Data**2, axis=1).reshape(-1, 1)\n",
    "            A2 = np.sum(X**2, axis=1).reshape(-1, 1).T\n",
    "            A3 = A1+A2\n",
    "            A12 = 2*np.dot(self.Data, X.T)\n",
    "            A = np.argsort(A3-A12, axis=0)[0:self.n_neighbors]\n",
    "        if self.algorithm == 'kd_tree':\n",
    "            A = self.tree.query(X, return_distance=False,\n",
    "                                k=self.n_neighbors)\n",
    "            A = A[:, 0:self.n_neighbors].T\n",
    "        y = self.Type[A].astype(int)\n",
    "        for i in range(len(X[:, 0])):\n",
    "            unicue, counts = np.unique(y[:, i], return_counts=True)\n",
    "            C = np.append(unicue.reshape(-1, 1), counts.reshape(-1, 1), axis=1)\n",
    "            C = C[C[:, 1].argsort()]\n",
    "            B[i] = C[-1, 0]\n",
    "        return B\n",
    "\n",
    "    def predict_proba(self, X):\n",
    "        B = np.zeros(shape=(len(X[:, 0]), len(np.unique(self.Type))))\n",
    "        A1 = np.sum(self.Data**2, axis=1).reshape(-1, 1)\n",
    "        A2 = np.sum(X**2, axis=1).reshape(-1, 1).T\n",
    "        A12 = 2*np.dot(self.Data, X.T)\n",
    "        A3 = A1+A2\n",
    "        A = np.argsort(A3-A12, axis=0)[0:self.n_neighbors]\n",
    "        if self.algorithm == 'kd_tree':\n",
    "            A = self.tree.query(X, return_distance=False,\n",
    "                                k=self.n_neighbors)\n",
    "            A = A[:, 0:self.n_neighbors].T\n",
    "        y = self.Type[A].astype(int)\n",
    "        for i in range(len(X[:, 0])):\n",
    "            counts_all = np.zeros(shape=(len(self.classes)))\n",
    "            for j in range(self.n_neighbors):\n",
    "                b = int(y[j, i])\n",
    "                counts_all[b] = counts_all[b]+1\n",
    "            B[i] = counts_all/self.n_neighbors\n",
    "        return B\n",
    "\n",
    "    def score(self, X, y):\n",
    "        B = self.predict(X)\n",
    "        A = B == y.astype(np.int)\n",
    "        return A.sum()/len(A)"
   ]
  },
  {
   "cell_type": "markdown",
   "metadata": {},
   "source": [
    "**IRIS**"
   ]
  },
  {
   "cell_type": "code",
   "execution_count": 6,
   "metadata": {},
   "outputs": [],
   "source": [
    "iris = datasets.load_iris()"
   ]
  },
  {
   "cell_type": "code",
   "execution_count": 7,
   "metadata": {},
   "outputs": [],
   "source": [
    "X_train, X_test, y_train, y_test = train_test_split(iris.data, iris.target, test_size=0.1, stratify=iris.target)"
   ]
  },
  {
   "cell_type": "code",
   "execution_count": 8,
   "metadata": {},
   "outputs": [],
   "source": [
    "clf = KNeighborsClassifier(n_neighbors=2, algorithm='brute')\n",
    "my_clf = MyKNeighborsClassifier(n_neighbors=2, algorithm='brute')"
   ]
  },
  {
   "cell_type": "code",
   "execution_count": 9,
   "metadata": {},
   "outputs": [
    {
     "name": "stdout",
     "output_type": "stream",
     "text": [
      "CPU times: user 2.1 ms, sys: 0 ns, total: 2.1 ms\n",
      "Wall time: 1.64 ms\n"
     ]
    },
    {
     "data": {
      "text/plain": [
       "KNeighborsClassifier(algorithm='brute', leaf_size=30, metric='minkowski',\n",
       "           metric_params=None, n_jobs=None, n_neighbors=2, p=2,\n",
       "           weights='uniform')"
      ]
     },
     "execution_count": 9,
     "metadata": {},
     "output_type": "execute_result"
    }
   ],
   "source": [
    "%time clf.fit(X_train, y_train)"
   ]
  },
  {
   "cell_type": "code",
   "execution_count": 10,
   "metadata": {},
   "outputs": [
    {
     "name": "stdout",
     "output_type": "stream",
     "text": [
      "CPU times: user 67 µs, sys: 34 µs, total: 101 µs\n",
      "Wall time: 87 µs\n"
     ]
    }
   ],
   "source": [
    "%time my_clf.fit(X_train, y_train)"
   ]
  },
  {
   "cell_type": "code",
   "execution_count": 11,
   "metadata": {},
   "outputs": [
    {
     "name": "stdout",
     "output_type": "stream",
     "text": [
      "CPU times: user 3.67 ms, sys: 0 ns, total: 3.67 ms\n",
      "Wall time: 2.86 ms\n"
     ]
    },
    {
     "data": {
      "text/plain": [
       "array([2, 0, 2, 0, 1, 1, 2, 1, 1, 0, 2, 0, 1, 1, 0])"
      ]
     },
     "execution_count": 11,
     "metadata": {},
     "output_type": "execute_result"
    }
   ],
   "source": [
    "%time clf.predict(X_test)"
   ]
  },
  {
   "cell_type": "code",
   "execution_count": 12,
   "metadata": {},
   "outputs": [
    {
     "name": "stdout",
     "output_type": "stream",
     "text": [
      "CPU times: user 2.18 ms, sys: 0 ns, total: 2.18 ms\n",
      "Wall time: 1.73 ms\n"
     ]
    },
    {
     "data": {
      "text/plain": [
       "array([2., 0., 2., 0., 1., 1., 2., 2., 1., 0., 2., 0., 1., 1., 0.])"
      ]
     },
     "execution_count": 12,
     "metadata": {},
     "output_type": "execute_result"
    }
   ],
   "source": [
    "%time my_clf.predict(X_test)"
   ]
  },
  {
   "cell_type": "code",
   "execution_count": 13,
   "metadata": {},
   "outputs": [
    {
     "name": "stdout",
     "output_type": "stream",
     "text": [
      "CPU times: user 531 µs, sys: 267 µs, total: 798 µs\n",
      "Wall time: 804 µs\n"
     ]
    },
    {
     "data": {
      "text/plain": [
       "array([[0. , 0. , 1. ],\n",
       "       [1. , 0. , 0. ],\n",
       "       [0. , 0. , 1. ],\n",
       "       [1. , 0. , 0. ],\n",
       "       [0. , 1. , 0. ],\n",
       "       [0. , 1. , 0. ],\n",
       "       [0. , 0. , 1. ],\n",
       "       [0. , 0.5, 0.5],\n",
       "       [0. , 1. , 0. ],\n",
       "       [1. , 0. , 0. ],\n",
       "       [0. , 0. , 1. ],\n",
       "       [1. , 0. , 0. ],\n",
       "       [0. , 1. , 0. ],\n",
       "       [0. , 1. , 0. ],\n",
       "       [1. , 0. , 0. ]])"
      ]
     },
     "execution_count": 13,
     "metadata": {},
     "output_type": "execute_result"
    }
   ],
   "source": [
    "%time clf.predict_proba(X_test)"
   ]
  },
  {
   "cell_type": "code",
   "execution_count": 14,
   "metadata": {},
   "outputs": [
    {
     "name": "stdout",
     "output_type": "stream",
     "text": [
      "CPU times: user 598 µs, sys: 301 µs, total: 899 µs\n",
      "Wall time: 620 µs\n"
     ]
    },
    {
     "data": {
      "text/plain": [
       "array([[0. , 0. , 1. ],\n",
       "       [1. , 0. , 0. ],\n",
       "       [0. , 0. , 1. ],\n",
       "       [1. , 0. , 0. ],\n",
       "       [0. , 1. , 0. ],\n",
       "       [0. , 1. , 0. ],\n",
       "       [0. , 0. , 1. ],\n",
       "       [0. , 0.5, 0.5],\n",
       "       [0. , 1. , 0. ],\n",
       "       [1. , 0. , 0. ],\n",
       "       [0. , 0. , 1. ],\n",
       "       [1. , 0. , 0. ],\n",
       "       [0. , 1. , 0. ],\n",
       "       [0. , 1. , 0. ],\n",
       "       [1. , 0. , 0. ]])"
      ]
     },
     "execution_count": 14,
     "metadata": {},
     "output_type": "execute_result"
    }
   ],
   "source": [
    "%time my_clf.predict_proba(X_test)"
   ]
  },
  {
   "cell_type": "code",
   "execution_count": 15,
   "metadata": {},
   "outputs": [
    {
     "data": {
      "text/plain": [
       "0.9333333333333333"
      ]
     },
     "execution_count": 15,
     "metadata": {},
     "output_type": "execute_result"
    }
   ],
   "source": [
    "clf.score(X_test, y_test)"
   ]
  },
  {
   "cell_type": "code",
   "execution_count": 16,
   "metadata": {},
   "outputs": [
    {
     "data": {
      "text/plain": [
       "1.0"
      ]
     },
     "execution_count": 16,
     "metadata": {},
     "output_type": "execute_result"
    }
   ],
   "source": [
    "my_clf.score(X_test, y_test)"
   ]
  },
  {
   "cell_type": "markdown",
   "metadata": {},
   "source": [
    "Задание 3"
   ]
  },
  {
   "cell_type": "code",
   "execution_count": 17,
   "metadata": {},
   "outputs": [
    {
     "name": "stdout",
     "output_type": "stream",
     "text": [
      "max score:\n",
      "1.0\n",
      "count of n_neghbors for max score:\n",
      "1\n"
     ]
    },
    {
     "data": {
      "image/png": "[encoded data removed]",
      "text/plain": [
       "<Figure size 432x288 with 1 Axes>"
      ]
     },
     "metadata": {
      "needs_background": "light"
     },
     "output_type": "display_data"
    }
   ],
   "source": [
    "a = np.zeros(shape=(len(X_train[:, 0])))\n",
    "for i in range(1,len(X_train[:, 0])):\n",
    "    my_clf = MyKNeighborsClassifier(n_neighbors=i, algorithm='brute')\n",
    "    my_clf.fit(X_train, y_train)\n",
    "    my_clf.predict(X_test)\n",
    "    a[i] = my_clf.score(X_test, y_test)\n",
    "print(\"max score:\")\n",
    "print(a.max())\n",
    "print(\"count of n_neghbors for max score:\")\n",
    "print(a.argmax())\n",
    "\n",
    "plt.plot(range(1,len(X_train[:, 0])),np.array(a[1:len(X_train[:, 0])]))\n",
    "plt.xlabel('n_neighbors')\n",
    "plt.ylabel('score')\n",
    "plt.show()"
   ]
  },
  {
   "cell_type": "markdown",
   "metadata": {},
   "source": [
    "**MNIST**"
   ]
  },
  {
   "cell_type": "code",
   "execution_count": 19,
   "metadata": {},
   "outputs": [],
   "source": [
    "mnist = fetch_openml('mnist_784')"
   ]
  },
  {
   "cell_type": "code",
   "execution_count": 20,
   "metadata": {},
   "outputs": [],
   "source": [
    "X_train, X_test, y_train, y_test = train_test_split(mnist.data, mnist.target, test_size=0.01, stratify=mnist.target)"
   ]
  },
  {
   "cell_type": "code",
   "execution_count": 21,
   "metadata": {},
   "outputs": [],
   "source": [
    "clf = KNeighborsClassifier(n_neighbors=2, algorithm='brute')\n",
    "my_clf = MyKNeighborsClassifier(n_neighbors=2, algorithm='brute')"
   ]
  },
  {
   "cell_type": "code",
   "execution_count": 22,
   "metadata": {},
   "outputs": [
    {
     "name": "stdout",
     "output_type": "stream",
     "text": [
      "CPU times: user 218 ms, sys: 0 ns, total: 218 ms\n",
      "Wall time: 305 ms\n"
     ]
    },
    {
     "data": {
      "text/plain": [
       "KNeighborsClassifier(algorithm='brute', leaf_size=30, metric='minkowski',\n",
       "           metric_params=None, n_jobs=None, n_neighbors=2, p=2,\n",
       "           weights='uniform')"
      ]
     },
     "execution_count": 22,
     "metadata": {},
     "output_type": "execute_result"
    }
   ],
   "source": [
    "%time clf.fit(X_train, y_train)"
   ]
  },
  {
   "cell_type": "code",
   "execution_count": 23,
   "metadata": {},
   "outputs": [
    {
     "name": "stdout",
     "output_type": "stream",
     "text": [
      "CPU times: user 54.4 ms, sys: 0 ns, total: 54.4 ms\n",
      "Wall time: 53.7 ms\n"
     ]
    }
   ],
   "source": [
    "%time my_clf.fit(X_train, y_train)"
   ]
  },
  {
   "cell_type": "code",
   "execution_count": 24,
   "metadata": {},
   "outputs": [
    {
     "name": "stdout",
     "output_type": "stream",
     "text": [
      "CPU times: user 6.83 s, sys: 2.96 s, total: 9.8 s\n",
      "Wall time: 1.93 s\n"
     ]
    },
    {
     "data": {
      "text/plain": [
       "array(['2', '6', '4', '6', '0', '9', '5', '7', '1', '6', '0', '8', '5',\n",
       "       '5', '9', '9', '6', '2', '2', '9', '1', '4', '6', '1', '8', '6',\n",
       "       '5', '1', '7', '6', '6', '6', '3', '9', '9', '9', '7', '9', '5',\n",
       "       '6', '7', '0', '2', '9', '1', '5', '3', '6', '6', '4', '1', '2',\n",
       "       '4', '2', '8', '5', '7', '2', '1', '0', '2', '4', '6', '9', '4',\n",
       "       '9', '5', '6', '3', '0', '4', '2', '4', '9', '8', '2', '3', '8',\n",
       "       '0', '0', '2', '7', '4', '4', '8', '9', '3', '3', '4', '4', '7',\n",
       "       '4', '3', '8', '8', '5', '7', '3', '3', '1', '0', '4', '1', '1',\n",
       "       '2', '2', '7', '7', '1', '4', '1', '2', '6', '8', '7', '3', '4',\n",
       "       '6', '3', '7', '0', '0', '9', '7', '9', '8', '1', '1', '1', '8',\n",
       "       '8', '6', '4', '6', '9', '9', '6', '0', '3', '0', '0', '3', '9',\n",
       "       '1', '5', '3', '8', '6', '7', '0', '5', '0', '6', '4', '1', '1',\n",
       "       '0', '0', '9', '4', '7', '5', '2', '2', '6', '9', '2', '3', '1',\n",
       "       '7', '1', '4', '9', '0', '3', '8', '1', '0', '0', '1', '7', '5',\n",
       "       '0', '9', '7', '5', '3', '1', '7', '7', '4', '3', '0', '6', '7',\n",
       "       '5', '1', '2', '8', '4', '4', '7', '3', '8', '5', '9', '1', '8',\n",
       "       '9', '8', '2', '3', '4', '7', '6', '7', '7', '2', '4', '0', '5',\n",
       "       '8', '9', '0', '6', '1', '1', '6', '4', '4', '3', '1', '3', '6',\n",
       "       '7', '8', '5', '4', '6', '6', '7', '4', '1', '5', '4', '0', '2',\n",
       "       '5', '2', '0', '2', '0', '5', '7', '3', '0', '5', '6', '8', '6',\n",
       "       '8', '6', '3', '1', '5', '1', '1', '9', '2', '8', '5', '2', '3',\n",
       "       '8', '5', '0', '9', '7', '8', '7', '5', '0', '5', '6', '2', '5',\n",
       "       '5', '6', '0', '2', '1', '2', '8', '9', '2', '7', '1', '6', '4',\n",
       "       '6', '3', '8', '8', '0', '1', '1', '9', '4', '2', '1', '9', '7',\n",
       "       '3', '3', '1', '1', '1', '8', '6', '9', '4', '3', '8', '2', '0',\n",
       "       '0', '3', '3', '6', '3', '9', '4', '0', '7', '8', '0', '2', '1',\n",
       "       '7', '1', '3', '8', '7', '0', '3', '2', '0', '3', '9', '3', '7',\n",
       "       '0', '4', '4', '2', '6', '1', '5', '9', '4', '8', '7', '4', '5',\n",
       "       '6', '3', '6', '4', '4', '1', '3', '2', '3', '8', '6', '3', '7',\n",
       "       '8', '3', '4', '1', '6', '9', '5', '3', '2', '5', '8', '2', '0',\n",
       "       '2', '2', '2', '5', '3', '5', '3', '0', '1', '2', '6', '4', '4',\n",
       "       '1', '2', '3', '2', '3', '7', '4', '1', '1', '5', '9', '7', '0',\n",
       "       '7', '8', '4', '6', '3', '3', '4', '8', '3', '7', '2', '8', '2',\n",
       "       '3', '7', '5', '5', '4', '5', '9', '8', '1', '8', '1', '5', '7',\n",
       "       '0', '7', '1', '9', '0', '3', '1', '8', '9', '5', '1', '2', '7',\n",
       "       '4', '5', '7', '3', '1', '7', '9', '8', '1', '7', '2', '1', '1',\n",
       "       '7', '4', '3', '3', '9', '1', '7', '4', '0', '5', '8', '9', '9',\n",
       "       '5', '7', '7', '3', '5', '5', '2', '2', '1', '0', '3', '7', '4',\n",
       "       '6', '9', '7', '5', '1', '6', '7', '5', '9', '4', '9', '8', '8',\n",
       "       '4', '9', '6', '0', '4', '5', '6', '2', '2', '6', '0', '4', '8',\n",
       "       '6', '5', '6', '1', '4', '2', '5', '3', '9', '6', '8', '6', '4',\n",
       "       '1', '2', '2', '5', '9', '0', '5', '7', '0', '3', '1', '6', '4',\n",
       "       '7', '6', '0', '1', '9', '3', '6', '5', '0', '1', '9', '5', '9',\n",
       "       '9', '9', '1', '9', '5', '7', '3', '2', '2', '1', '8', '5', '9',\n",
       "       '4', '0', '3', '3', '0', '9', '6', '2', '8', '9', '8', '1', '4',\n",
       "       '7', '0', '8', '7', '1', '5', '9', '1', '4', '3', '0', '8', '2',\n",
       "       '4', '0', '8', '2', '8', '1', '2', '6', '0', '6', '8', '6', '6',\n",
       "       '3', '5', '7', '9', '0', '0', '2', '2', '1', '5', '6', '2', '7',\n",
       "       '6', '9', '1', '3', '2', '7', '8', '7', '4', '7', '9', '0', '4',\n",
       "       '3', '0', '3', '0', '7', '0', '9', '4', '4', '2', '3', '9', '9',\n",
       "       '4', '9', '3', '9', '6', '3', '1', '1', '7', '0', '8', '0', '4',\n",
       "       '3', '6', '3', '7', '9', '2', '6', '5', '2', '6', '0', '7', '5',\n",
       "       '2', '5', '0', '2', '1', '2', '2', '4', '8', '5', '4', '0', '5',\n",
       "       '1', '6', '3', '8', '2', '1', '0', '1', '5', '8', '9'],\n",
       "      dtype=object)"
      ]
     },
     "execution_count": 24,
     "metadata": {},
     "output_type": "execute_result"
    }
   ],
   "source": [
    "%time clf.predict(X_test)"
   ]
  },
  {
   "cell_type": "code",
   "execution_count": 25,
   "metadata": {},
   "outputs": [
    {
     "name": "stdout",
     "output_type": "stream",
     "text": [
      "CPU times: user 14 s, sys: 3.16 s, total: 17.2 s\n",
      "Wall time: 9.31 s\n"
     ]
    },
    {
     "data": {
      "text/plain": [
       "array([2., 6., 4., 6., 0., 9., 5., 9., 1., 6., 0., 8., 5., 5., 9., 9., 6.,\n",
       "       2., 2., 9., 1., 4., 6., 1., 8., 6., 5., 1., 7., 6., 6., 6., 3., 9.,\n",
       "       9., 9., 7., 9., 5., 6., 7., 0., 2., 9., 1., 5., 3., 6., 6., 7., 1.,\n",
       "       2., 7., 2., 8., 5., 7., 2., 1., 0., 2., 4., 6., 9., 4., 9., 5., 6.,\n",
       "       3., 0., 4., 7., 4., 9., 8., 2., 5., 8., 0., 0., 2., 7., 4., 4., 8.,\n",
       "       9., 3., 6., 4., 4., 7., 4., 3., 8., 8., 5., 7., 8., 3., 1., 0., 4.,\n",
       "       1., 1., 2., 2., 7., 7., 1., 4., 1., 2., 6., 8., 7., 3., 4., 6., 3.,\n",
       "       7., 0., 0., 9., 7., 9., 8., 1., 1., 1., 8., 8., 6., 4., 6., 9., 9.,\n",
       "       6., 0., 3., 0., 0., 3., 9., 1., 5., 3., 8., 6., 7., 0., 5., 0., 6.,\n",
       "       4., 1., 1., 0., 0., 9., 4., 7., 5., 2., 2., 6., 9., 2., 3., 1., 7.,\n",
       "       1., 4., 9., 0., 3., 8., 1., 0., 0., 1., 7., 5., 0., 9., 7., 5., 3.,\n",
       "       1., 7., 7., 4., 3., 0., 6., 7., 9., 1., 2., 8., 4., 4., 7., 3., 8.,\n",
       "       6., 9., 1., 8., 9., 8., 2., 3., 4., 7., 6., 7., 7., 7., 4., 0., 5.,\n",
       "       8., 9., 0., 6., 1., 1., 6., 4., 4., 3., 1., 3., 6., 7., 8., 5., 4.,\n",
       "       6., 6., 7., 4., 1., 5., 9., 0., 2., 8., 2., 0., 2., 0., 5., 7., 8.,\n",
       "       0., 5., 6., 8., 6., 8., 6., 3., 1., 5., 1., 1., 9., 2., 8., 5., 2.,\n",
       "       3., 8., 5., 0., 9., 7., 8., 9., 5., 0., 5., 6., 2., 5., 8., 6., 0.,\n",
       "       2., 1., 8., 8., 9., 2., 7., 1., 6., 4., 6., 3., 8., 8., 0., 1., 1.,\n",
       "       9., 9., 2., 1., 9., 7., 3., 3., 1., 1., 1., 8., 6., 9., 4., 3., 8.,\n",
       "       2., 0., 0., 5., 3., 6., 3., 9., 4., 0., 7., 8., 0., 2., 1., 7., 1.,\n",
       "       3., 8., 7., 0., 3., 2., 0., 3., 9., 3., 7., 0., 4., 4., 2., 6., 1.,\n",
       "       5., 9., 4., 8., 7., 4., 5., 6., 3., 6., 9., 4., 1., 3., 2., 3., 8.,\n",
       "       6., 3., 7., 8., 3., 4., 1., 6., 9., 5., 3., 2., 5., 8., 2., 0., 2.,\n",
       "       2., 2., 5., 8., 5., 3., 0., 1., 2., 6., 4., 7., 1., 2., 3., 8., 3.,\n",
       "       7., 4., 1., 1., 5., 9., 7., 0., 9., 8., 4., 6., 3., 3., 4., 8., 3.,\n",
       "       7., 2., 8., 2., 3., 7., 5., 5., 4., 5., 9., 8., 1., 8., 1., 5., 7.,\n",
       "       0., 7., 1., 9., 0., 3., 1., 8., 9., 5., 1., 2., 7., 4., 5., 7., 3.,\n",
       "       1., 7., 9., 8., 1., 7., 2., 1., 1., 7., 4., 5., 3., 9., 1., 7., 4.,\n",
       "       0., 5., 8., 9., 9., 5., 7., 7., 3., 5., 5., 2., 2., 1., 0., 3., 7.,\n",
       "       4., 6., 9., 7., 5., 1., 6., 7., 5., 9., 4., 9., 8., 8., 4., 9., 6.,\n",
       "       0., 4., 5., 6., 2., 2., 6., 0., 4., 8., 6., 5., 6., 1., 4., 2., 5.,\n",
       "       3., 9., 6., 8., 6., 4., 1., 2., 2., 5., 9., 0., 5., 7., 0., 3., 1.,\n",
       "       6., 4., 7., 6., 0., 1., 9., 3., 6., 5., 0., 1., 9., 5., 9., 9., 9.,\n",
       "       1., 9., 5., 7., 3., 2., 2., 1., 8., 5., 9., 4., 0., 3., 3., 0., 9.,\n",
       "       6., 2., 8., 9., 8., 1., 4., 7., 0., 8., 7., 1., 5., 9., 1., 4., 3.,\n",
       "       0., 8., 2., 4., 0., 8., 2., 8., 1., 2., 6., 0., 6., 8., 6., 6., 3.,\n",
       "       5., 7., 9., 0., 0., 2., 2., 1., 5., 6., 2., 7., 6., 9., 1., 3., 2.,\n",
       "       7., 8., 7., 4., 7., 9., 0., 4., 3., 0., 3., 0., 7., 0., 9., 4., 4.,\n",
       "       2., 3., 9., 9., 4., 9., 3., 9., 6., 3., 1., 1., 7., 0., 8., 0., 4.,\n",
       "       3., 6., 3., 7., 9., 2., 6., 5., 2., 6., 0., 7., 5., 2., 5., 0., 2.,\n",
       "       1., 2., 2., 4., 8., 5., 4., 0., 5., 1., 6., 3., 8., 2., 1., 0., 1.,\n",
       "       5., 8., 9.])"
      ]
     },
     "execution_count": 25,
     "metadata": {},
     "output_type": "execute_result"
    }
   ],
   "source": [
    "%time my_clf.predict(X_test)"
   ]
  },
  {
   "cell_type": "code",
   "execution_count": 26,
   "metadata": {},
   "outputs": [
    {
     "name": "stdout",
     "output_type": "stream",
     "text": [
      "CPU times: user 6.61 s, sys: 2.56 s, total: 9.17 s\n",
      "Wall time: 1.82 s\n"
     ]
    },
    {
     "data": {
      "text/plain": [
       "array([[0., 0., 1., ..., 0., 0., 0.],\n",
       "       [0., 0., 0., ..., 0., 0., 0.],\n",
       "       [0., 0., 0., ..., 0., 0., 0.],\n",
       "       ...,\n",
       "       [0., 0., 0., ..., 0., 0., 0.],\n",
       "       [0., 0., 0., ..., 0., 1., 0.],\n",
       "       [0., 0., 0., ..., 0., 0., 1.]])"
      ]
     },
     "execution_count": 26,
     "metadata": {},
     "output_type": "execute_result"
    }
   ],
   "source": [
    "%time clf.predict_proba(X_test)"
   ]
  },
  {
   "cell_type": "code",
   "execution_count": 27,
   "metadata": {},
   "outputs": [
    {
     "name": "stdout",
     "output_type": "stream",
     "text": [
      "CPU times: user 14.5 s, sys: 4.06 s, total: 18.6 s\n",
      "Wall time: 9.24 s\n"
     ]
    },
    {
     "data": {
      "text/plain": [
       "array([[0., 0., 1., ..., 0., 0., 0.],\n",
       "       [0., 0., 0., ..., 0., 0., 0.],\n",
       "       [0., 0., 0., ..., 0., 0., 0.],\n",
       "       ...,\n",
       "       [0., 0., 0., ..., 0., 0., 0.],\n",
       "       [0., 0., 0., ..., 0., 1., 0.],\n",
       "       [0., 0., 0., ..., 0., 0., 1.]])"
      ]
     },
     "execution_count": 27,
     "metadata": {},
     "output_type": "execute_result"
    }
   ],
   "source": [
    "%time my_clf.predict_proba(X_test)"
   ]
  },
  {
   "cell_type": "code",
   "execution_count": 28,
   "metadata": {},
   "outputs": [
    {
     "data": {
      "text/plain": [
       "0.9671428571428572"
      ]
     },
     "execution_count": 28,
     "metadata": {},
     "output_type": "execute_result"
    }
   ],
   "source": [
    "clf.score(X_test, y_test)"
   ]
  },
  {
   "cell_type": "code",
   "execution_count": 29,
   "metadata": {},
   "outputs": [
    {
     "data": {
      "text/plain": [
       "0.9685714285714285"
      ]
     },
     "execution_count": 29,
     "metadata": {},
     "output_type": "execute_result"
    }
   ],
   "source": [
    "my_clf.score(X_test, y_test)"
   ]
  },
  {
   "cell_type": "markdown",
   "metadata": {},
   "source": [
    "Задание 4"
   ]
  },
  {
   "cell_type": "code",
   "execution_count": 30,
   "metadata": {},
   "outputs": [],
   "source": [
    "clf = KNeighborsClassifier(n_neighbors=2, algorithm='kd_tree')\n",
    "my_clf = MyKNeighborsClassifier(n_neighbors=2, algorithm='kd_tree')"
   ]
  },
  {
   "cell_type": "code",
   "execution_count": 31,
   "metadata": {},
   "outputs": [],
   "source": [
    "X_train, X_test, y_train, y_test = train_test_split(mnist.data, mnist.target, test_size=0.01, stratify=mnist.target)"
   ]
  },
  {
   "cell_type": "code",
   "execution_count": 32,
   "metadata": {},
   "outputs": [
    {
     "name": "stdout",
     "output_type": "stream",
     "text": [
      "CPU times: user 32.2 s, sys: 159 ms, total: 32.4 s\n",
      "Wall time: 33.3 s\n"
     ]
    },
    {
     "data": {
      "text/plain": [
       "KNeighborsClassifier(algorithm='kd_tree', leaf_size=30, metric='minkowski',\n",
       "           metric_params=None, n_jobs=None, n_neighbors=2, p=2,\n",
       "           weights='uniform')"
      ]
     },
     "execution_count": 32,
     "metadata": {},
     "output_type": "execute_result"
    }
   ],
   "source": [
    "%time clf.fit(X_train, y_train)"
   ]
  },
  {
   "cell_type": "code",
   "execution_count": 33,
   "metadata": {},
   "outputs": [
    {
     "name": "stdout",
     "output_type": "stream",
     "text": [
      "CPU times: user 32 s, sys: 174 ms, total: 32.2 s\n",
      "Wall time: 34.4 s\n"
     ]
    }
   ],
   "source": [
    "%time my_clf.fit(X_train, y_train)"
   ]
  },
  {
   "cell_type": "code",
   "execution_count": 34,
   "metadata": {},
   "outputs": [
    {
     "name": "stdout",
     "output_type": "stream",
     "text": [
      "CPU times: user 1min 39s, sys: 212 ms, total: 1min 39s\n",
      "Wall time: 1min 45s\n"
     ]
    },
    {
     "data": {
      "text/plain": [
       "array(['2', '9', '8', '3', '7', '0', '5', '1', '3', '1', '4', '6', '9',\n",
       "       '0', '6', '8', '2', '6', '5', '0', '5', '3', '0', '1', '9', '9',\n",
       "       '7', '2', '2', '0', '4', '2', '6', '3', '9', '0', '0', '4', '1',\n",
       "       '6', '0', '9', '6', '2', '2', '4', '3', '7', '5', '7', '6', '3',\n",
       "       '8', '1', '4', '8', '8', '8', '6', '0', '7', '0', '4', '1', '9',\n",
       "       '2', '7', '0', '6', '5', '5', '3', '7', '5', '5', '3', '8', '6',\n",
       "       '3', '5', '6', '6', '9', '6', '2', '1', '4', '5', '2', '1', '3',\n",
       "       '8', '3', '8', '1', '6', '5', '1', '7', '5', '3', '2', '2', '8',\n",
       "       '7', '0', '8', '9', '3', '8', '6', '0', '4', '1', '2', '7', '1',\n",
       "       '7', '5', '2', '5', '7', '4', '8', '9', '4', '4', '5', '7', '6',\n",
       "       '3', '5', '1', '3', '0', '7', '1', '3', '2', '6', '3', '7', '9',\n",
       "       '5', '3', '0', '5', '8', '7', '6', '7', '2', '7', '6', '4', '8',\n",
       "       '8', '5', '5', '8', '0', '8', '9', '7', '9', '3', '3', '3', '3',\n",
       "       '1', '9', '8', '1', '0', '6', '2', '5', '7', '4', '2', '6', '1',\n",
       "       '3', '9', '6', '1', '7', '6', '4', '8', '4', '1', '8', '2', '2',\n",
       "       '4', '4', '7', '9', '2', '0', '5', '3', '2', '1', '7', '4', '5',\n",
       "       '2', '8', '5', '0', '7', '2', '8', '1', '9', '6', '4', '3', '2',\n",
       "       '4', '2', '4', '6', '6', '7', '1', '6', '0', '4', '6', '5', '1',\n",
       "       '5', '3', '4', '5', '2', '2', '9', '5', '8', '3', '0', '8', '8',\n",
       "       '1', '5', '1', '6', '5', '7', '3', '0', '0', '1', '9', '2', '8',\n",
       "       '5', '3', '0', '5', '8', '5', '9', '8', '4', '9', '6', '7', '4',\n",
       "       '7', '3', '3', '1', '9', '4', '8', '3', '1', '9', '8', '7', '0',\n",
       "       '5', '2', '7', '0', '4', '1', '6', '8', '7', '2', '3', '7', '9',\n",
       "       '2', '3', '0', '7', '1', '8', '2', '4', '1', '9', '8', '6', '2',\n",
       "       '8', '2', '7', '1', '0', '0', '1', '7', '6', '7', '0', '0', '9',\n",
       "       '0', '7', '3', '3', '1', '6', '9', '8', '4', '8', '7', '1', '8',\n",
       "       '8', '8', '5', '7', '1', '4', '4', '2', '4', '9', '3', '9', '3',\n",
       "       '6', '4', '5', '1', '0', '0', '1', '8', '5', '5', '2', '2', '2',\n",
       "       '9', '0', '3', '6', '7', '7', '2', '3', '0', '9', '2', '0', '8',\n",
       "       '3', '9', '8', '6', '1', '1', '7', '5', '7', '7', '3', '1', '3',\n",
       "       '7', '0', '9', '1', '0', '0', '2', '0', '6', '0', '8', '7', '5',\n",
       "       '7', '4', '1', '7', '2', '7', '9', '7', '1', '3', '3', '5', '0',\n",
       "       '0', '6', '9', '1', '9', '4', '2', '8', '2', '5', '4', '9', '0',\n",
       "       '5', '7', '2', '8', '7', '3', '0', '8', '0', '2', '9', '4', '2',\n",
       "       '7', '0', '2', '6', '3', '7', '1', '6', '9', '3', '7', '9', '2',\n",
       "       '5', '5', '5', '3', '8', '7', '3', '6', '6', '1', '5', '1', '1',\n",
       "       '9', '7', '9', '0', '3', '1', '4', '4', '0', '4', '5', '6', '8',\n",
       "       '3', '3', '4', '1', '0', '5', '0', '6', '9', '1', '2', '0', '7',\n",
       "       '6', '6', '1', '0', '6', '8', '8', '6', '2', '1', '9', '0', '2',\n",
       "       '1', '5', '5', '7', '8', '4', '9', '2', '3', '2', '7', '8', '5',\n",
       "       '4', '0', '9', '3', '0', '0', '4', '0', '6', '9', '1', '2', '8',\n",
       "       '6', '4', '9', '6', '3', '0', '4', '3', '4', '5', '7', '2', '5',\n",
       "       '6', '8', '8', '9', '9', '9', '3', '6', '1', '3', '1', '0', '7',\n",
       "       '4', '4', '4', '4', '4', '4', '2', '6', '3', '9', '3', '0', '8',\n",
       "       '4', '2', '0', '3', '7', '8', '4', '6', '3', '6', '7', '2', '4',\n",
       "       '0', '4', '5', '1', '7', '7', '8', '1', '1', '0', '6', '4', '5',\n",
       "       '8', '7', '5', '3', '4', '1', '2', '3', '6', '1', '7', '9', '4',\n",
       "       '4', '1', '9', '1', '4', '7', '6', '9', '2', '3', '4', '7', '5',\n",
       "       '9', '0', '9', '3', '5', '4', '3', '1', '4', '8', '4', '5', '0',\n",
       "       '1', '9', '3', '1', '3', '4', '7', '6', '1', '6', '9', '3', '1',\n",
       "       '0', '2', '1', '8', '1', '7', '8', '8', '6', '7', '6', '7', '7',\n",
       "       '2', '0', '1', '6', '4', '1', '0', '1', '1', '1', '6', '4', '6',\n",
       "       '2', '2', '3', '3', '2', '0', '5', '6', '6', '1', '6', '3', '2',\n",
       "       '1', '9', '9', '9', '4', '1', '3', '8', '3', '2', '1'],\n",
       "      dtype=object)"
      ]
     },
     "execution_count": 34,
     "metadata": {},
     "output_type": "execute_result"
    }
   ],
   "source": [
    "%time clf.predict(X_test)"
   ]
  },
  {
   "cell_type": "code",
   "execution_count": 35,
   "metadata": {},
   "outputs": [
    {
     "name": "stdout",
     "output_type": "stream",
     "text": [
      "CPU times: user 1min 17s, sys: 75.1 ms, total: 1min 17s\n",
      "Wall time: 1min 20s\n"
     ]
    },
    {
     "data": {
      "text/plain": [
       "array([2., 9., 8., 3., 7., 0., 5., 1., 3., 1., 4., 6., 9., 0., 6., 8., 2.,\n",
       "       6., 5., 0., 5., 3., 0., 1., 9., 9., 7., 2., 2., 0., 4., 2., 6., 3.,\n",
       "       9., 0., 0., 7., 1., 6., 0., 9., 6., 2., 2., 4., 3., 7., 5., 7., 6.,\n",
       "       3., 8., 1., 4., 8., 8., 8., 6., 0., 7., 0., 4., 1., 9., 2., 7., 0.,\n",
       "       6., 5., 5., 3., 7., 5., 5., 3., 8., 6., 3., 5., 6., 6., 9., 6., 2.,\n",
       "       1., 4., 5., 2., 1., 3., 8., 3., 8., 1., 6., 5., 1., 7., 5., 3., 2.,\n",
       "       2., 9., 7., 0., 8., 9., 3., 8., 6., 0., 4., 1., 2., 7., 1., 7., 5.,\n",
       "       2., 5., 7., 4., 8., 9., 4., 4., 5., 7., 6., 3., 5., 1., 3., 0., 7.,\n",
       "       1., 3., 2., 6., 3., 7., 9., 5., 3., 2., 5., 8., 7., 6., 7., 2., 7.,\n",
       "       6., 4., 8., 8., 5., 5., 8., 0., 8., 9., 7., 9., 3., 3., 8., 3., 1.,\n",
       "       9., 8., 1., 0., 6., 2., 5., 7., 4., 2., 6., 1., 3., 9., 6., 1., 7.,\n",
       "       6., 4., 8., 4., 1., 8., 2., 2., 4., 4., 7., 9., 2., 0., 6., 3., 2.,\n",
       "       1., 7., 4., 5., 2., 8., 5., 0., 7., 2., 8., 1., 9., 6., 4., 3., 2.,\n",
       "       4., 2., 4., 6., 6., 7., 1., 6., 0., 4., 6., 5., 1., 5., 9., 4., 9.,\n",
       "       2., 2., 9., 5., 8., 3., 0., 8., 8., 1., 5., 1., 6., 5., 7., 5., 0.,\n",
       "       0., 1., 9., 2., 8., 5., 3., 0., 5., 8., 5., 9., 8., 4., 9., 6., 7.,\n",
       "       4., 7., 8., 3., 1., 9., 7., 8., 3., 1., 9., 8., 7., 0., 5., 2., 7.,\n",
       "       0., 4., 1., 6., 8., 7., 2., 3., 7., 9., 2., 3., 0., 7., 1., 8., 2.,\n",
       "       4., 1., 9., 8., 6., 2., 8., 2., 7., 1., 0., 0., 1., 7., 6., 7., 0.,\n",
       "       0., 9., 0., 7., 3., 3., 1., 6., 9., 8., 4., 8., 7., 1., 8., 8., 8.,\n",
       "       5., 7., 1., 4., 4., 2., 4., 9., 3., 9., 3., 6., 4., 5., 1., 0., 0.,\n",
       "       1., 8., 5., 5., 2., 2., 2., 9., 0., 3., 6., 7., 7., 2., 3., 0., 9.,\n",
       "       2., 0., 8., 3., 9., 8., 6., 1., 1., 7., 5., 7., 8., 3., 1., 5., 7.,\n",
       "       0., 9., 1., 0., 0., 2., 0., 6., 0., 8., 7., 5., 9., 4., 1., 7., 2.,\n",
       "       7., 9., 7., 1., 3., 3., 5., 0., 0., 6., 9., 1., 9., 4., 2., 8., 2.,\n",
       "       5., 4., 9., 0., 5., 7., 2., 8., 7., 3., 0., 8., 0., 2., 9., 4., 2.,\n",
       "       7., 0., 2., 6., 3., 7., 1., 6., 9., 3., 7., 9., 2., 5., 5., 5., 3.,\n",
       "       8., 9., 3., 6., 6., 1., 5., 1., 1., 9., 9., 9., 0., 8., 1., 4., 4.,\n",
       "       8., 4., 5., 6., 8., 3., 3., 4., 1., 0., 5., 0., 6., 9., 1., 2., 0.,\n",
       "       7., 6., 6., 1., 0., 6., 8., 8., 6., 2., 1., 9., 0., 2., 1., 5., 5.,\n",
       "       7., 8., 4., 9., 2., 5., 2., 7., 8., 5., 4., 0., 9., 3., 0., 0., 4.,\n",
       "       0., 6., 9., 1., 2., 8., 6., 4., 9., 6., 3., 0., 9., 3., 4., 5., 7.,\n",
       "       2., 5., 6., 8., 8., 9., 9., 9., 3., 6., 1., 3., 1., 0., 7., 4., 4.,\n",
       "       4., 4., 4., 4., 2., 6., 3., 9., 3., 0., 8., 4., 2., 0., 5., 7., 8.,\n",
       "       4., 6., 3., 6., 7., 2., 4., 0., 4., 5., 1., 7., 7., 8., 1., 1., 0.,\n",
       "       6., 4., 5., 8., 7., 5., 3., 9., 1., 2., 3., 6., 1., 7., 9., 4., 4.,\n",
       "       1., 9., 1., 9., 7., 6., 9., 2., 3., 4., 7., 5., 9., 0., 9., 3., 5.,\n",
       "       4., 3., 1., 4., 8., 4., 5., 0., 1., 9., 3., 1., 3., 4., 7., 6., 1.,\n",
       "       6., 9., 3., 1., 0., 2., 1., 8., 1., 7., 8., 8., 6., 7., 6., 7., 7.,\n",
       "       2., 0., 1., 6., 9., 1., 0., 1., 1., 1., 6., 4., 6., 2., 2., 3., 3.,\n",
       "       2., 0., 5., 6., 6., 1., 6., 3., 2., 1., 9., 9., 9., 9., 1., 3., 8.,\n",
       "       3., 2., 1.])"
      ]
     },
     "execution_count": 35,
     "metadata": {},
     "output_type": "execute_result"
    }
   ],
   "source": [
    "%time my_clf.predict(X_test)"
   ]
  },
  {
   "cell_type": "code",
   "execution_count": 36,
   "metadata": {},
   "outputs": [
    {
     "name": "stdout",
     "output_type": "stream",
     "text": [
      "CPU times: user 1min 41s, sys: 99.1 ms, total: 1min 41s\n",
      "Wall time: 1min 48s\n"
     ]
    },
    {
     "data": {
      "text/plain": [
       "array([[0., 0., 1., ..., 0., 0., 0.],\n",
       "       [0., 0., 0., ..., 0., 0., 1.],\n",
       "       [0., 0., 0., ..., 0., 1., 0.],\n",
       "       ...,\n",
       "       [0., 0., 0., ..., 0., 0., 0.],\n",
       "       [0., 0., 1., ..., 0., 0., 0.],\n",
       "       [0., 1., 0., ..., 0., 0., 0.]])"
      ]
     },
     "execution_count": 36,
     "metadata": {},
     "output_type": "execute_result"
    }
   ],
   "source": [
    "%time clf.predict_proba(X_test)"
   ]
  },
  {
   "cell_type": "code",
   "execution_count": 37,
   "metadata": {},
   "outputs": [
    {
     "name": "stdout",
     "output_type": "stream",
     "text": [
      "CPU times: user 1min 32s, sys: 4.41 s, total: 1min 37s\n",
      "Wall time: 1min 29s\n"
     ]
    },
    {
     "data": {
      "text/plain": [
       "array([[0., 0., 1., ..., 0., 0., 0.],\n",
       "       [0., 0., 0., ..., 0., 0., 1.],\n",
       "       [0., 0., 0., ..., 0., 1., 0.],\n",
       "       ...,\n",
       "       [0., 0., 0., ..., 0., 0., 0.],\n",
       "       [0., 0., 1., ..., 0., 0., 0.],\n",
       "       [0., 1., 0., ..., 0., 0., 0.]])"
      ]
     },
     "execution_count": 37,
     "metadata": {},
     "output_type": "execute_result"
    }
   ],
   "source": [
    "%time my_clf.predict_proba(X_test)"
   ]
  },
  {
   "cell_type": "code",
   "execution_count": 38,
   "metadata": {},
   "outputs": [
    {
     "data": {
      "text/plain": [
       "0.9685714285714285"
      ]
     },
     "execution_count": 38,
     "metadata": {},
     "output_type": "execute_result"
    }
   ],
   "source": [
    "clf.score(X_test, y_test)"
   ]
  },
  {
   "cell_type": "code",
   "execution_count": 39,
   "metadata": {},
   "outputs": [
    {
     "data": {
      "text/plain": [
       "0.9671428571428572"
      ]
     },
     "execution_count": 39,
     "metadata": {},
     "output_type": "execute_result"
    }
   ],
   "source": [
    "my_clf.score(X_test, y_test)"
   ]
  },
  {
   "cell_type": "markdown",
   "metadata": {},
   "source": [
    "Задание 5"
   ]
  },
  {
   "cell_type": "markdown",
   "metadata": {},
   "source": [
    " seaborn - это библиотека для создания привлекательной и информативной статистической графики на Python. Основана на matplotlib.\n",
    " \n",
    " matplotlib - библиотека, используемая для построения различных графиков.\n",
    " \n",
    " train_test_split - функция библиотеки sklearn, которая разбивает выборку на тестовую и тренировачную выборку.\n",
    " \n",
    " Pipelin%load_ext e (from sklearn.pipeline import Pipeline) - функция последовательного преобразования данных.\n",
    " \n",
    " StandardScaler (from sklearn.preprocessing import StandardScaler) - класс для преобразования данных таким образом, что его распределение будет иметь среднее значение(мат ожидание) 0 и стандартное отклонение 1.\n",
    " \n",
    " ClassifierMixin - mixin класс для всех классификаторов sklearn. Mixin-ы или примеси являются своего рода классом, который используется для «подмешивания» дополнительных свойств и методов в класс.\n",
    " \n",
    " NeighborsBase - базовый класс для классификаторов knn из библиотеки sklearn.\n",
    " \n",
    " KNeighborsMixin - класс для knn, который содержит в себе методы поиска соседей.\n",
    " \n",
    " SupervisedIntegerMixin - - Класс для обучения с учителем, содержащий метод обучения для целевых меток fit."
   ]
  },
  {
   "cell_type": "code",
   "execution_count": null,
   "metadata": {},
   "outputs": [],
   "source": []
  }
 ],
 "metadata": {
  "kernelspec": {
   "display_name": "Python 3",
   "language": "python",
   "name": "python3"
  },
  "language_info": {
   "codemirror_mode": {
    "name": "ipython",
    "version": 3
   },
   "file_extension": ".py",
   "mimetype": "text/x-python",
   "name": "python",
   "nbconvert_exporter": "python",
   "pygments_lexer": "ipython3",
   "version": "3.7.1"
  }
 },
 "nbformat": 4,
 "nbformat_minor": 2
}
